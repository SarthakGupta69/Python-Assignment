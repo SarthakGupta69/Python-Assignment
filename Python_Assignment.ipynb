{
  "nbformat": 4,
  "nbformat_minor": 0,
  "metadata": {
    "colab": {
      "provenance": []
    },
    "kernelspec": {
      "name": "python3",
      "display_name": "Python 3"
    },
    "language_info": {
      "name": "python"
    }
  },
  "cells": [
    {
      "cell_type": "markdown",
      "source": [
        "# Python\n",
        "\n"
      ],
      "metadata": {
        "id": "Eqer0p2vQNJF"
      }
    },
    {
      "cell_type": "markdown",
      "source": [
        "Questions Answer :-"
      ],
      "metadata": {
        "id": "CNa1q6EkQzRd"
      }
    },
    {
      "cell_type": "markdown",
      "source": [
        "1. What is Python, and why is it popular?\n",
        "  -  Python is a high-level, interpreted programming language known for its simplicity, readability, and versatility. It is widely used in web development, data science, artificial intelligence, automation, and more. Its popularity comes from its easy-to-learn syntax, vast libraries, and strong community support.\n",
        "\n",
        "2. What is an interpreter in Python?\n",
        "  - An interpreter in Python is a program that executes Python code line by line, converting high-level code into machine-executable instructions without needing prior compilation.\n",
        "\n",
        "3. What are pre-defined keywords in Python?\n",
        "   - Pre-defined keywords in Python are reserved words with special meanings that cannot be used as variable names. Examples include if, else, while, for, def, class, return, import, and try.\n",
        "\n",
        "4. Can keywords be used as variable names?\n",
        "   - No, keywords cannot be used as variable names because they have predefined meanings in Python.\n",
        "\n",
        "5. What is mutability in Python?\n",
        "   - Mutability refers to whether an object’s state (values) can be changed after creation. Mutable objects can be modified, while immutable objects cannot.\n",
        "\n",
        "6. Why are lists mutable, but tuples are immutable?\n",
        "   - Lists are mutable because their elements can be modified, added, or removed after creation. Tuples, however, are immutable, meaning their elements cannot be changed once assigned, which ensures data integrity and optimization in memory usage.\n",
        "\n",
        "7. What is the difference between == and is operators in Python?\n",
        "   -\t== checks if two variables have the same value.\n",
        "     •\tis checks if two variables reference the same memory location (i.e., they are the same object).\n",
        "\n",
        "8. What are logical operators in Python?\n",
        "  - Logical operators are used to perform boolean logic operations:\n",
        "     •\tand: Returns True if both conditions are True\n",
        "     •\tor: Returns True if at least one condition is True\n",
        "     •\tnot: Negates the boolean value\n",
        "\n",
        "9. What is type casting in Python?\n",
        "  - Type casting (or type conversion) is converting one data type into another, such as converting an integer to a string (str(10)) or a float to an integer (int(3.5)).\n",
        "\n",
        "10. What is the difference between implicit and explicit type casting?\n",
        "  -  •\tImplicit type casting: Performed automatically by Python (e.g., int to float).\n",
        "     •\tExplicit type casting: Done manually using functions like int(), float(), str().\n",
        "\n",
        "11. What is the purpose of conditional statements in Python?\n",
        "   - Conditional statements control the flow of execution based on conditions. They allow a program to execute different blocks of code depending on whether conditions evaluate to True or False.\n",
        "\n",
        "12. How does the elif statement work?\n",
        "   - The elif statement (else if) allows multiple conditions to be checked sequentially. If one condition is True, the corresponding block runs, and the remaining conditions are skipped.\n",
        "\n",
        "13. What is the difference between for and while loops?\n",
        "  -•\tThe main difference between for loops and while loops comes down to how the number of iterations is determined:\n",
        "\n",
        "  1. For Loop\n",
        "  A for loop is typically used when the number of iterations is known ahead of time or is based on a fixed range or collection. The loop runs for a predefined number of times or iterates over a sequence (like a list, range, etc.).\n",
        "   When to use a for loop:\n",
        "   When you know the exact number of iterations beforehand (e.g., looping over  a range or a fixed-size list).\n",
        "   When you're working with an iterable (like a list, string, dictionary, or range) and need to perform an action on each item\n",
        "\n",
        "    2. While Loop\n",
        "  A while loop is used when the number of iterations is not known ahead of time and is instead determined by a condition that is checked before each iteration. The loop continues to run as long as the condition remains true.\n",
        "\n",
        "  When to use a while loop:\n",
        "  When you don't know in advance how many times the loop should run.\n",
        "  When the loop should continue as long as a condition is true (e.g., waiting for user input, processing data until a specific state is reached, etc.).\n",
        "\n",
        "\n",
        "\n",
        "14. Describe a scenario where a while loop is more suitable than a for loop.\n",
        "   -  A while loop is often more suitable than a for loop when the number of iterations is not known in advance and the loop is meant to continue running as long as a certain condition is true. This makes the while loop ideal for situations where you need to keep checking a condition in each iteration and don't have a predefined range or a fixed number of steps.\n",
        "  \n",
        "\n",
        "\n"
      ],
      "metadata": {
        "id": "OaWrn2LJQ_Lr"
      }
    },
    {
      "cell_type": "markdown",
      "source": [
        "# Practical Questions :-"
      ],
      "metadata": {
        "id": "XvG3C_70WLXN"
      }
    },
    {
      "cell_type": "markdown",
      "source": [
        "Q1. Write a Python program to print \"Hello, World!"
      ],
      "metadata": {
        "id": "hwOImINJWUdd"
      }
    },
    {
      "cell_type": "code",
      "source": [
        "print (\"Hello, World!\")"
      ],
      "metadata": {
        "colab": {
          "base_uri": "https://localhost:8080/"
        },
        "id": "qSSEO_vfWjJm",
        "outputId": "cab80c8d-106d-4719-b678-00da851e62ee"
      },
      "execution_count": 1,
      "outputs": [
        {
          "output_type": "stream",
          "name": "stdout",
          "text": [
            "Hello, World!\n"
          ]
        }
      ]
    },
    {
      "cell_type": "markdown",
      "source": [
        "Q2. Write a Python program that displays your name and age"
      ],
      "metadata": {
        "id": "AZ4VSBzlWxW-"
      }
    },
    {
      "cell_type": "code",
      "source": [
        "name= \"Sarthak Gupta\"\n",
        "age= 21\n",
        "\n",
        "print(\"name:\", name)\n",
        "print(\"age:\", age)\n"
      ],
      "metadata": {
        "colab": {
          "base_uri": "https://localhost:8080/"
        },
        "id": "twW1UcupW4oF",
        "outputId": "af069244-161f-4bf9-96a9-a1631901306e"
      },
      "execution_count": 6,
      "outputs": [
        {
          "output_type": "stream",
          "name": "stdout",
          "text": [
            "name: Sarthak Gupta\n",
            "age: 21\n"
          ]
        }
      ]
    },
    {
      "cell_type": "markdown",
      "source": [
        "Q3. Write code to print all the pre-defined keywords in Python using the keyword library"
      ],
      "metadata": {
        "id": "JvW4BRNCXhK2"
      }
    },
    {
      "cell_type": "code",
      "source": [
        "import keyword\n",
        "print(keyword.kwlist, end=\" \")\n"
      ],
      "metadata": {
        "colab": {
          "base_uri": "https://localhost:8080/"
        },
        "id": "EczQ1m6rXrH3",
        "outputId": "55dbe020-9ea4-4f24-ab4e-6f6b9fb01344"
      },
      "execution_count": 11,
      "outputs": [
        {
          "output_type": "stream",
          "name": "stdout",
          "text": [
            "['False', 'None', 'True', 'and', 'as', 'assert', 'async', 'await', 'break', 'class', 'continue', 'def', 'del', 'elif', 'else', 'except', 'finally', 'for', 'from', 'global', 'if', 'import', 'in', 'is', 'lambda', 'nonlocal', 'not', 'or', 'pass', 'raise', 'return', 'try', 'while', 'with', 'yield'] "
          ]
        }
      ]
    },
    {
      "cell_type": "markdown",
      "source": [
        "Q4. Write a program that checks if a given word is a Python keyword"
      ],
      "metadata": {
        "id": "NuoclswfYWwV"
      }
    },
    {
      "cell_type": "code",
      "source": [
        "import keyword\n",
        "word = input(\"Enter a word to check if it's a Pyhton Keyword\")\n",
        "if keyword.iskeyword(word):\n",
        "  print(f\"{word} is a python keyword\")\n",
        "else:\n",
        "  print(f\"{word} is not a python keyword\")\n",
        "\n"
      ],
      "metadata": {
        "colab": {
          "base_uri": "https://localhost:8080/"
        },
        "id": "xo74wVlHbdwg",
        "outputId": "c865c352-00d3-41d5-cf47-0875c5bfc75b"
      },
      "execution_count": 17,
      "outputs": [
        {
          "output_type": "stream",
          "name": "stdout",
          "text": [
            "Enter a word to check if it's a Pyhton Keywordand\n",
            "and is a python keyword\n"
          ]
        }
      ]
    },
    {
      "cell_type": "markdown",
      "source": [
        "Q5. Create a list and tuple in Python, and demonstrate how attempting to change an element works differently\n",
        "for each"
      ],
      "metadata": {
        "id": "LdRRLFunajmQ"
      }
    },
    {
      "cell_type": "code",
      "source": [
        "my_list = [1,2,3,4]\n",
        "my_tupe = [1,2,3,4]\n",
        "my_list[0]= 10\n",
        "print(\"Modified list:\" , my_list)\n",
        "try:\n",
        "   my_tupe[0] = 10\n",
        "except TypeError as e:\n",
        "    print(\"Error while modifiying tuple:, e\")"
      ],
      "metadata": {
        "colab": {
          "base_uri": "https://localhost:8080/"
        },
        "id": "2pJWS4x6ccuw",
        "outputId": "7f97f34d-5380-4e55-e8e3-09fb34245806"
      },
      "execution_count": 27,
      "outputs": [
        {
          "output_type": "stream",
          "name": "stdout",
          "text": [
            "Modified list: [10, 2, 3, 4]\n"
          ]
        }
      ]
    },
    {
      "cell_type": "markdown",
      "source": [
        "Q6 Write a function to demonstrate the behavior of mutable and immutable arguments"
      ],
      "metadata": {
        "id": "vgre1LWmeTrJ"
      }
    },
    {
      "cell_type": "code",
      "source": [
        "def demonstrate_mutability(mutable_arg, immutable_arg):\n",
        "  print(\"Before modification:\")\n",
        "  print(f\"Mutable argument: {mutable_arg}\")\n",
        "  print(f\"Immutable argument: {immutable_arg}\")\n",
        "  mutable_arg.append(100)\n",
        "  try:\n",
        "      immutable_arg += 100\n",
        "  except TypeError:\n",
        "    print(\"Can't modify immutable argument directly.\")\n",
        "    print(\"After modification:\")\n",
        "    print(f\"Mutable argument: {mutable_arg}\")\n",
        "    print(f\"Immutable argument: {immutable_arg}\")\n",
        "my_list =[1,2,3]\n",
        "my_number= [50]\n",
        "demonstrate_mutability(my_list,my_number)\n"
      ],
      "metadata": {
        "colab": {
          "base_uri": "https://localhost:8080/"
        },
        "id": "bQ3_qmuseYJE",
        "outputId": "fc11d6e0-a330-48f6-91e7-d8673790008a"
      },
      "execution_count": 36,
      "outputs": [
        {
          "output_type": "stream",
          "name": "stdout",
          "text": [
            "Before modification:\n",
            "Mutable argument: [1, 2, 3]\n",
            "Immutable argument: [50]\n",
            "Can't modify immutable argument directly.\n",
            "After modification:\n",
            "Mutable argument: [1, 2, 3, 100]\n",
            "Immutable argument: [50]\n"
          ]
        }
      ]
    },
    {
      "cell_type": "markdown",
      "source": [
        "Q8 Write a program to demonstrate the use of logical operators"
      ],
      "metadata": {
        "id": "-TMq25wniO4w"
      }
    },
    {
      "cell_type": "code",
      "source": [
        "a = True\n",
        "b = False\n",
        "print(f\"a AND b: {a and b}\")\n",
        "print(f\"a OR b: {a or b}\")\n",
        "print(f\"a NOT b: {not a}\")"
      ],
      "metadata": {
        "colab": {
          "base_uri": "https://localhost:8080/"
        },
        "id": "vmAcAW46iU8I",
        "outputId": "42254433-b0b0-4676-a71b-ef0ea24b5084"
      },
      "execution_count": 37,
      "outputs": [
        {
          "output_type": "stream",
          "name": "stdout",
          "text": [
            "a AND b: False\n",
            "a OR b: True\n",
            "a NOT b: False\n"
          ]
        }
      ]
    },
    {
      "cell_type": "markdown",
      "source": [
        "Q9 Write a Python program to convert user input from string to integer, float, and boolean types"
      ],
      "metadata": {
        "id": "L-jVSIiwjME0"
      }
    },
    {
      "cell_type": "code",
      "source": [
        "# Taking user input\n",
        "user_input = input(\"Enter a value: \")\n",
        "\n",
        "# Converting to integer\n",
        "int_value = int(user_input)\n",
        "print(f\"Integer: {int_value}\")\n",
        "\n",
        "# Converting to float\n",
        "float_value = float(user_input)\n",
        "print(f\"Float: {float_value}\")\n",
        "\n",
        "# Converting to boolean (non-empty string is True, empty string is False)\n",
        "bool_value = bool(user_input)\n",
        "print(f\"Boolean: {bool_value}\")\n"
      ],
      "metadata": {
        "colab": {
          "base_uri": "https://localhost:8080/"
        },
        "id": "bygST8-WjRC-",
        "outputId": "bf686dfe-849d-4d2f-8920-1deffc44d20e"
      },
      "execution_count": 41,
      "outputs": [
        {
          "output_type": "stream",
          "name": "stdout",
          "text": [
            "Enter a value: 10\n",
            "Integer: 10\n",
            "Float: 10.0\n",
            "Boolean: True\n"
          ]
        }
      ]
    },
    {
      "cell_type": "markdown",
      "source": [
        "Q10  Write code to demonstrate type casting with list elements"
      ],
      "metadata": {
        "id": "ab0FPSOLjeEc"
      }
    },
    {
      "cell_type": "code",
      "source": [
        "my_list = [\"1\", \"2.5\", \"True\"]\n",
        "\n",
        "# Converting all elements to their respective types\n",
        "int_list = [int(i) if i.isdigit() else i for i in my_list]\n",
        "float_list = [float(i) if i.replace(\".\", \"\", 1).isdigit() else i for i in my_list]\n",
        "bool_list = [bool(i) for i in my_list]\n",
        "\n",
        "print(f\"List with integer conversion: {int_list}\")\n",
        "print(f\"List with float conversion: {float_list}\")\n",
        "print(f\"List with boolean conversion: {bool_list}\")\n"
      ],
      "metadata": {
        "colab": {
          "base_uri": "https://localhost:8080/"
        },
        "id": "EW7U-MWwjimR",
        "outputId": "7f98a5bd-1bdc-451f-c636-f5874ee12305"
      },
      "execution_count": 42,
      "outputs": [
        {
          "output_type": "stream",
          "name": "stdout",
          "text": [
            "List with integer conversion: [1, '2.5', 'True']\n",
            "List with float conversion: [1.0, 2.5, 'True']\n",
            "List with boolean conversion: [True, True, True]\n"
          ]
        }
      ]
    },
    {
      "cell_type": "markdown",
      "source": [
        "Q11  Write a program that checks if a number is positive, negative, or zero"
      ],
      "metadata": {
        "id": "viskOz_xjob7"
      }
    },
    {
      "cell_type": "code",
      "source": [
        "number = float(input(\"Enter a number: \"))\n",
        "\n",
        "if number > 0:\n",
        "    print(f\"{number} is positive.\")\n",
        "elif number < 0:\n",
        "    print(f\"{number} is negative.\")\n",
        "else:\n",
        "    print(f\"{number} is zero.\")\n"
      ],
      "metadata": {
        "colab": {
          "base_uri": "https://localhost:8080/"
        },
        "id": "TS8nV_1qjrrr",
        "outputId": "43dc8ca4-4248-4cab-a487-e33b6f256899"
      },
      "execution_count": 43,
      "outputs": [
        {
          "output_type": "stream",
          "name": "stdout",
          "text": [
            "Enter a number: 10\n",
            "10.0 is positive.\n"
          ]
        }
      ]
    },
    {
      "cell_type": "markdown",
      "source": [
        "Q12 Write a for loop to print numbers from 1 to 10"
      ],
      "metadata": {
        "id": "3P07BXVFjwQF"
      }
    },
    {
      "cell_type": "code",
      "source": [
        "for i in range(1, 101):\n",
        "    print(i)\n"
      ],
      "metadata": {
        "colab": {
          "base_uri": "https://localhost:8080/"
        },
        "id": "IEFtailGjzOl",
        "outputId": "79d05485-2d26-4547-a318-4e09c562a1dc"
      },
      "execution_count": 44,
      "outputs": [
        {
          "output_type": "stream",
          "name": "stdout",
          "text": [
            "1\n",
            "2\n",
            "3\n",
            "4\n",
            "5\n",
            "6\n",
            "7\n",
            "8\n",
            "9\n",
            "10\n",
            "11\n",
            "12\n",
            "13\n",
            "14\n",
            "15\n",
            "16\n",
            "17\n",
            "18\n",
            "19\n",
            "20\n",
            "21\n",
            "22\n",
            "23\n",
            "24\n",
            "25\n",
            "26\n",
            "27\n",
            "28\n",
            "29\n",
            "30\n",
            "31\n",
            "32\n",
            "33\n",
            "34\n",
            "35\n",
            "36\n",
            "37\n",
            "38\n",
            "39\n",
            "40\n",
            "41\n",
            "42\n",
            "43\n",
            "44\n",
            "45\n",
            "46\n",
            "47\n",
            "48\n",
            "49\n",
            "50\n",
            "51\n",
            "52\n",
            "53\n",
            "54\n",
            "55\n",
            "56\n",
            "57\n",
            "58\n",
            "59\n",
            "60\n",
            "61\n",
            "62\n",
            "63\n",
            "64\n",
            "65\n",
            "66\n",
            "67\n",
            "68\n",
            "69\n",
            "70\n",
            "71\n",
            "72\n",
            "73\n",
            "74\n",
            "75\n",
            "76\n",
            "77\n",
            "78\n",
            "79\n",
            "80\n",
            "81\n",
            "82\n",
            "83\n",
            "84\n",
            "85\n",
            "86\n",
            "87\n",
            "88\n",
            "89\n",
            "90\n",
            "91\n",
            "92\n",
            "93\n",
            "94\n",
            "95\n",
            "96\n",
            "97\n",
            "98\n",
            "99\n",
            "100\n"
          ]
        }
      ]
    },
    {
      "cell_type": "markdown",
      "source": [
        "Q13 Write a Python program to find the sum of all even numbers between 1 and 50"
      ],
      "metadata": {
        "id": "k2Hk19hwj3C8"
      }
    },
    {
      "cell_type": "code",
      "source": [
        "sum_even = sum(i for i in range(1, 501) if i % 2 == 0)\n",
        "print(f\"Sum of all even numbers between 1 and 500: {sum_even}\")\n",
        "\n"
      ],
      "metadata": {
        "colab": {
          "base_uri": "https://localhost:8080/"
        },
        "id": "kZ9lMriuj6ur",
        "outputId": "b006670c-37b1-46e0-9555-7133e746a966"
      },
      "execution_count": 49,
      "outputs": [
        {
          "output_type": "stream",
          "name": "stdout",
          "text": [
            "Sum of all even numbers between 1 and 500: 62750\n"
          ]
        }
      ]
    },
    {
      "cell_type": "markdown",
      "source": [
        "Q14 Write a program to reverse a string using a while loop"
      ],
      "metadata": {
        "id": "kTYp5wSskHRW"
      }
    },
    {
      "cell_type": "code",
      "source": [
        "string = input(\"Enter a string to reverse: \")\n",
        "reversed_string = \"\"\n",
        "\n",
        "index = len(string) - 1\n",
        "while index >= 0:\n",
        "    reversed_string += string[index]\n",
        "    index -= 1\n",
        "\n",
        "print(f\"Reversed string: {reversed_string}\")\n"
      ],
      "metadata": {
        "colab": {
          "base_uri": "https://localhost:8080/"
        },
        "id": "timEjRidkJCD",
        "outputId": "3c270a2f-7e12-4340-a41e-0d758f4eb87f"
      },
      "execution_count": 1,
      "outputs": [
        {
          "output_type": "stream",
          "name": "stdout",
          "text": [
            "Enter a string to reverse: sarthak\n",
            "Reversed string: kahtras\n"
          ]
        }
      ]
    },
    {
      "cell_type": "markdown",
      "source": [
        "Q15 Write a Python program to calculate the factorial of a number provided by the user using a while loop."
      ],
      "metadata": {
        "id": "aCUqGLVOkOKB"
      }
    },
    {
      "cell_type": "code",
      "source": [
        "number = int(input(\"Enter a number to calculate its factorial: \"))\n",
        "factorial = 1\n",
        "while number > 1:\n",
        "    factorial *= number\n",
        "    number -= 1\n",
        "\n",
        "print(f\"Factorial: {factorial}\")\n"
      ],
      "metadata": {
        "colab": {
          "base_uri": "https://localhost:8080/"
        },
        "id": "CERNF3lskRIX",
        "outputId": "73097c4f-b803-4371-9016-cb19dfb31e36"
      },
      "execution_count": 48,
      "outputs": [
        {
          "output_type": "stream",
          "name": "stdout",
          "text": [
            "Enter a number to calculate its factorial: 10\n",
            "Factorial: 3628800\n"
          ]
        }
      ]
    }
  ]
}